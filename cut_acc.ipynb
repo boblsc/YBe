{
 "cells": [
  {
   "cell_type": "code",
   "execution_count": 1,
   "id": "d9f9bbd9-57aa-45f5-9f4f-d1108c7654d0",
   "metadata": {},
   "outputs": [],
   "source": [
    "import numpy as np\n",
    "from numba import njit\n",
    "from sklearn.mixture import GaussianMixture\n",
    "import matplotlib.pyplot as plt\n",
    "import matplotlib as mpl\n",
    "import matplotlib.dates as mdates\n",
    "from matplotlib.colors import LogNorm, Normalize\n",
    "import pandas as pd\n",
    "import pickle\n",
    "from datetime import datetime,timedelta, date\n",
    "import strax\n",
    "import straxen\n",
    "import cutax\n",
    "from tqdm.notebook import tqdm, trange\n",
    "strax.utils.tqdm = tqdm\n",
    "from multihist import Hist1d, Histdd\n",
    "\n",
    "import copy\n",
    "from matplotlib import cm\n",
    "from scipy import stats\n",
    "import feldman_cousins as fc\n",
    "from scipy.stats import poisson\n",
    "from scipy.optimize import minimize, rosen, rosen_der\n",
    "import h5py\n",
    "\n",
    "import GOFevaluation as ge\n",
    "import scipy.stats as sps\n",
    "import matplotlib.pyplot as plt\n",
    "import matplotlib as mpl\n",
    "import numpy as np"
   ]
  },
  {
   "cell_type": "code",
   "execution_count": 2,
   "id": "0f5d4719-e1a2-4135-a39c-5f06ae376333",
   "metadata": {},
   "outputs": [],
   "source": [
    "import os\n",
    "style = os.path.join(os.environ['HOME'], 'nton/mplconfigs/stylelib/xenonnt.mplstyle')   \n",
    "plt.style.use(style)"
   ]
  },
  {
   "cell_type": "code",
   "execution_count": 3,
   "id": "46b2dcab-96e9-4f81-8973-6d5a54011d96",
   "metadata": {},
   "outputs": [],
   "source": [
    "%matplotlib inline"
   ]
  },
  {
   "cell_type": "code",
   "execution_count": 4,
   "id": "8f62c9d6-71bf-4676-9da5-3a16692e6282",
   "metadata": {},
   "outputs": [],
   "source": [
    "mpl.rcParams['figure.dpi'] = 130\n",
    "mpl.rcParams['font.family'] = 'serif'\n",
    "mpl.rcParams['font.size'] = 9"
   ]
  },
  {
   "cell_type": "code",
   "execution_count": 5,
   "id": "210f29b4-d6c7-44f4-8f5f-6bfe38d99fa8",
   "metadata": {},
   "outputs": [],
   "source": [
    "%run -i 'YBe_tool.py'\n",
    "%run -i 'stuff_to_load.py'\n",
    "mode='3-fold'\n",
    "# mode='2-fold-only'"
   ]
  },
  {
   "cell_type": "code",
   "execution_count": 6,
   "id": "922a3ce0-bed9-4cc8-80c6-a5df3483ba69",
   "metadata": {},
   "outputs": [],
   "source": [
    "Y88_hl=106.6\n",
    "kbq_initial=698\n",
    "kbq_sim=389\n",
    "day_lapse=-np.log(kbq_sim/kbq_initial)/np.log(2)*Y88_hl\n",
    "#2022-6-1 initial date\n",
    "source_date=datetime(2022,6,1)+timedelta(days=day_lapse)\n",
    "dt=(datetime(2022,10,5)-source_date)/timedelta(days=1)"
   ]
  },
  {
   "cell_type": "code",
   "execution_count": 6,
   "id": "e945be70-5e50-4401-a189-c894b171ab9e",
   "metadata": {},
   "outputs": [],
   "source": [
    "# for i in data_cuts:\n",
    "#     print(i)"
   ]
  },
  {
   "cell_type": "code",
   "execution_count": 8,
   "id": "63952087-da58-448c-8e09-84b4a1612bb4",
   "metadata": {},
   "outputs": [],
   "source": [
    "# ddt=75#(datetime(2022,12,5)-datetime(2022,10,5))\n",
    "# np.exp(-ddt/(Y88_hl/np.log(2)))"
   ]
  },
  {
   "cell_type": "code",
   "execution_count": 7,
   "id": "8db757e2-a36b-4e05-826c-3c798c65170f",
   "metadata": {},
   "outputs": [],
   "source": [
    "hour=183.78\n",
    "\n",
    "# gamma_ineff=0.9 #NR inefficincy due to gamma coincident\n",
    "# start_to_mid=0.9809\n",
    "\n",
    "gamma_ratio=0.93356 #gamma ratio between YBe and Y88 run\n",
    "# one_week_decay=np.exp(-7/(Y88_hl/np.log(2))) #fitted source decay rate\n",
    "\n",
    "# sim_ratio=1/(start_to_mid*one_week_decay**2) #old scaling\n",
    "sim_ratio=1/(np.exp(-dt/(Y88_hl/np.log(2)))) #new scaling\n",
    "\n",
    "s_hour=15393*sim_ratio #hours of simulation, in the same rate as YBe run\n",
    "b_hour=142.21*gamma_ratio #hours of background run, in the rate, in the same rate as YBe run\n",
    "y_hour=365*24\n",
    "bkg_s=hour/b_hour #pre-scaling for Y88 \n",
    "sim_s=hour/s_hour #pre-scaling for YBe simulation"
   ]
  },
  {
   "cell_type": "code",
   "execution_count": null,
   "id": "f6b15c97-90e8-47c8-867b-82977e010ff7",
   "metadata": {},
   "outputs": [],
   "source": [
    "# data_cuts=pd.read_hdf(\"good_data.hdf5\")\n",
    "bkg=pd.read_hdf(\"/dali/lgrandi/ghusheng/YBe_data/YBe_superrun/YBe_V1/Y88_event_info_143runs_142.21hrs_all_cuts_with_run_ids_v1.hdf5\")\n",
    "data=pd.read_hdf(\"/dali/lgrandi/ghusheng/YBe_data/YBe_superrun/YBe_V1/YBe_event_info_239runs_183.78hrs_all_cuts_with_run_ids_v1.hdf5\")\n",
    "\n",
    "\n",
    "# bkg=pd.read_hdf(\"/dali/lgrandi/ghusheng/YBe_data/YBe_superrun/Y88_event_info_143runs_142.21hrs_all_cuts_with_run_ids.hdf5\")\n",
    "# data=pd.read_hdf(\"/dali/lgrandi/ghusheng/YBe_data/YBe_superrun/YBe_event_info_239runs_183.78hrs_all_cuts_with_run_ids.hdf5\")\n",
    "# # sim=pd.read_hdf(\"good_sim.hdf5\") #3-fold\n",
    "# sim_raw=pd.read_csv(\"/dali/lgrandi/pkavrigin/2022-10-19_YBeNeutron/event_info.csv\") #raw sim\n",
    "sim_raw=pd.read_csv(\"/dali/lgrandi/xenonnt/simulations/ybe_neutron/ybe_neu_event_info.csv\")"
   ]
  },
  {
   "cell_type": "code",
   "execution_count": null,
   "id": "7c11416d-81aa-495b-ae8e-f4ba5f154414",
   "metadata": {},
   "outputs": [],
   "source": [
    "def df_2fold(df):\n",
    "    return df[(df['cut_s1_tightcoin_3fold']==False)&(df.s1_n_hits==2)]\n",
    "def df_cut_SA(data_cuts_2only):\n",
    "    return data_cuts_2only[(data_cuts_2only.cut_position_shadow)&(data_cuts_2only.cut_time_shadow)&(data_cuts_2only.cut_ambience)]"
   ]
  },
  {
   "cell_type": "code",
   "execution_count": 10,
   "id": "8785e121-d08f-4bd3-82fb-a7b1178261cd",
   "metadata": {},
   "outputs": [
    {
     "name": "stdout",
     "output_type": "stream",
     "text": [
      "The history saving thread hit an unexpected error (OperationalError('unable to open database file')).History will not be written to the database.\n"
     ]
    }
   ],
   "source": [
    "#quality cuts 2fold only\n",
    "if mode=='2-fold-only':\n",
    "    ac_h5 = '/dali/lgrandi/xudc/ac_ybe_1109.h5'\n",
    "    y_hour=365*24\n",
    "    with h5py.File(ac_h5, 'r', libver='latest', swmr=True) as ipt:\n",
    "        normalization = ipt['fold2_df'].attrs['normalization']\n",
    "\n",
    "    ac_sim_2only = pd.read_hdf(ac_h5, key='fold2_df')#, columns=['cs1', 'cs2', 'cut_fiducial_volume', 'cut_near_wires'])\n",
    "    data_cuts_2only = data.query(' and '.join(targets_2fold[1:]))\n",
    "    bkg_cuts_2only = bkg.query(' and '.join(targets_2fold[1:]))\n",
    "    sim_2only = sim_raw.query(' and '.join(targets_2fold[1:]))\n",
    "    ac_sim_cuts_2only = ac_sim_2only[ac_sim_2only.cut_fiducial_volume]\n",
    "    s1_bins=np.linspace(1.5,20.5,20)\n",
    "    data_cuts_2only=df_2fold(data_cuts_2only)\n",
    "    bkg_cuts_2only=df_2fold(bkg_cuts_2only)\n",
    "    sim_2only=df_2fold(sim_2only)\n",
    "    \n",
    "    # ac_sim_2only=\n",
    "    # del bkg\n",
    "    # del data\n",
    "    # del sim_raw"
   ]
  },
  {
   "cell_type": "code",
   "execution_count": 127,
   "id": "2f627130-0717-44d4-9d51-eef37054107e",
   "metadata": {},
   "outputs": [],
   "source": [
    "data_2f_clean=wire_cut(df_cut_SA(data_cuts_2only))\n",
    "# sim_2f_clean=df_cut_SA(sim_2only)\n",
    "bkg_2f_clean=wire_cut(df_cut_SA(bkg_cuts_2only))\n",
    "sim_2f_clean=wire_cut(sim_2only[sim_2only.s1_n_hits==2])"
   ]
  },
  {
   "cell_type": "code",
   "execution_count": 59,
   "id": "db612af6-baf5-4254-bf3f-afd0216ccd46",
   "metadata": {},
   "outputs": [
    {
     "data": {
      "text/plain": [
       "array([2], dtype=int16)"
      ]
     },
     "execution_count": 59,
     "metadata": {},
     "output_type": "execute_result"
    }
   ],
   "source": [
    "data_2f_clean.s1_n_hits.unique()"
   ]
  },
  {
   "cell_type": "code",
   "execution_count": 67,
   "id": "7a326ca9-9f22-4f50-bbf3-1c21c44aae58",
   "metadata": {},
   "outputs": [],
   "source": [
    "#quality cuts 3fold\n",
    "if mode=='3-fold':\n",
    "    ac_h5 = '/dali/lgrandi/xudc/ac_ybe_1109.h5'\n",
    "\n",
    "    with h5py.File(ac_h5, 'r', libver='latest', swmr=True) as ipt:\n",
    "        normalization = ipt['fold3_df'].attrs['normalization']\n",
    "\n",
    "    ac_sim = pd.read_hdf(ac_h5, key='fold3_df', columns=['cs1', 'cs2', 'cut_fiducial_volume', 'cut_near_wires','x','y','r','z'])\n",
    "    data_cuts = data.query(' and '.join(targets_3fold[1:]))\n",
    "    bkg_cuts = bkg.query(' and '.join(targets_3fold[1:]))\n",
    "    sim = sim_raw.query(' and '.join(targets_3fold[1:]))\n",
    "    ac_sim_cuts = ac_sim[ac_sim.cut_fiducial_volume]\n",
    "    s1_bins=np.linspace(2.5,20.5,19)\n",
    "    # del bkg\n",
    "    # del data\n",
    "    # del sim_raw"
   ]
  }
 ],
 "metadata": {
  "kernelspec": {
   "display_name": "Python [conda env:XENONnT_2022.09.1] *",
   "language": "python",
   "name": "conda-env-XENONnT_2022.09.1-py"
  },
  "language_info": {
   "codemirror_mode": {
    "name": "ipython",
    "version": 3
   },
   "file_extension": ".py",
   "mimetype": "text/x-python",
   "name": "python",
   "nbconvert_exporter": "python",
   "pygments_lexer": "ipython3",
   "version": "3.8.13"
  }
 },
 "nbformat": 4,
 "nbformat_minor": 5
}
